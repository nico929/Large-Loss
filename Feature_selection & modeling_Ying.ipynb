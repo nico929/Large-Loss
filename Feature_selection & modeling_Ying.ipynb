{
 "cells": [
  {
   "cell_type": "code",
   "execution_count": 1,
   "metadata": {
    "collapsed": false,
    "scrolled": false
   },
   "outputs": [
    {
     "name": "stderr",
     "output_type": "stream",
     "text": [
      "/Users/admin/anaconda/lib/python3.6/site-packages/matplotlib/__init__.py:913: UserWarning: axes.color_cycle is deprecated and replaced with axes.prop_cycle; please use the latter.\n",
      "  warnings.warn(self.msg_depr % (key, alt_key))\n"
     ]
    }
   ],
   "source": [
    "import pandas as pd\n",
    "import matplotlib.pyplot as plt\n",
    "from sklearn.ensemble import ExtraTreesClassifier"
   ]
  },
  {
   "cell_type": "code",
   "execution_count": 2,
   "metadata": {
    "collapsed": false
   },
   "outputs": [],
   "source": [
    "lar_loss = pd.read_csv('new_claimdata_1.csv')"
   ]
  },
  {
   "cell_type": "code",
   "execution_count": 3,
   "metadata": {
    "collapsed": true
   },
   "outputs": [],
   "source": [
    "lar_loss['Issued_Time'] = [item.replace(':','') for item in list(lar_loss['Issued_Time'].values)]"
   ]
  },
  {
   "cell_type": "code",
   "execution_count": 4,
   "metadata": {
    "collapsed": true
   },
   "outputs": [],
   "source": [
    "lar_loss['Issued_Time'] = lar_loss['Issued_Time'].astype(int)"
   ]
  },
  {
   "cell_type": "code",
   "execution_count": 5,
   "metadata": {
    "collapsed": true
   },
   "outputs": [],
   "source": [
    "def date_lst(feature):\n",
    "    date = [int(item[-2:]) for item in list(lar_loss[feature].values)]\n",
    "    lar_loss[feature] = date\n",
    "    return lar_loss[feature].head()"
   ]
  },
  {
   "cell_type": "code",
   "execution_count": 6,
   "metadata": {
    "collapsed": false
   },
   "outputs": [
    {
     "data": {
      "text/plain": [
       "0    10\n",
       "1     1\n",
       "2     1\n",
       "3    26\n",
       "4    15\n",
       "Name: Effective_date, dtype: int64"
      ]
     },
     "execution_count": 6,
     "metadata": {},
     "output_type": "execute_result"
    }
   ],
   "source": [
    "date_lst('Issued_date')\n",
    "date_lst('Inception_date')\n",
    "date_lst('Event_Occurrence_date')\n",
    "date_lst('Effective_date')"
   ]
  },
  {
   "cell_type": "code",
   "execution_count": 7,
   "metadata": {
    "collapsed": true
   },
   "outputs": [],
   "source": [
    "lar_loss['Insured_Age_Range'] = lar_loss['Insured_Age_Range'].replace(['30-39','40-49','60-','50-59','20-29','00-19'],\n",
    "                                                       [3039,4049,60,5059,2029,19])"
   ]
  },
  {
   "cell_type": "code",
   "execution_count": 8,
   "metadata": {
    "collapsed": false
   },
   "outputs": [],
   "source": [
    "lar_loss['Claim_Number'] = lar_loss['Claim_Number'].fillna(0.0)\n",
    "lar_loss['Contract_Status'] = lar_loss['Contract_Status'].fillna(0.0)"
   ]
  },
  {
   "cell_type": "code",
   "execution_count": 9,
   "metadata": {
    "collapsed": false
   },
   "outputs": [],
   "source": [
    "columns = list(lar_loss.columns)"
   ]
  },
  {
   "cell_type": "markdown",
   "metadata": {},
   "source": [
    "# Define features and target variable"
   ]
  },
  {
   "cell_type": "code",
   "execution_count": 10,
   "metadata": {
    "collapsed": false
   },
   "outputs": [],
   "source": [
    "feature_lst = ['EV_LARGE','Issued_Date','Effective_Date','Prefecture','Region','Inception_Month',\n",
    "               'Event_Occurrence_Month','Car_Name','Event_Occurrence','Inception','Effective','Issued','Reason']\n",
    "                                                                                         \n",
    "features_to_use = [col for col in columns if col not in feature_lst]"
   ]
  },
  {
   "cell_type": "code",
   "execution_count": 11,
   "metadata": {
    "collapsed": true
   },
   "outputs": [],
   "source": [
    "X = lar_loss[features_to_use]\n",
    "y = lar_loss['EV_LARGE']"
   ]
  },
  {
   "cell_type": "markdown",
   "metadata": {},
   "source": [
    "# Build a forest and compute the feature importances\n"
   ]
  },
  {
   "cell_type": "code",
   "execution_count": 14,
   "metadata": {
    "collapsed": true
   },
   "outputs": [],
   "source": [
    "forest = ExtraTreesClassifier(n_estimators=29,\n",
    "                              random_state=0)"
   ]
  },
  {
   "cell_type": "code",
   "execution_count": 17,
   "metadata": {
    "collapsed": false
   },
   "outputs": [
    {
     "data": {
      "text/plain": [
       "ExtraTreesClassifier(bootstrap=False, class_weight=None, criterion='gini',\n",
       "           max_depth=None, max_features='auto', max_leaf_nodes=None,\n",
       "           min_impurity_split=1e-07, min_samples_leaf=1,\n",
       "           min_samples_split=2, min_weight_fraction_leaf=0.0,\n",
       "           n_estimators=29, n_jobs=1, oob_score=False, random_state=0,\n",
       "           verbose=0, warm_start=False)"
      ]
     },
     "execution_count": 17,
     "metadata": {},
     "output_type": "execute_result"
    }
   ],
   "source": [
    "forest.fit(X, y)"
   ]
  },
  {
   "cell_type": "code",
   "execution_count": 23,
   "metadata": {
    "collapsed": false
   },
   "outputs": [],
   "source": [
    "import numpy as np\n",
    "importances = forest.feature_importances_\n",
    "std = np.std([tree.feature_importances_ for tree in forest.estimators_],\n",
    "             axis=0)\n",
    "indices = np.argsort(importances)[::-1]"
   ]
  },
  {
   "cell_type": "code",
   "execution_count": 21,
   "metadata": {
    "collapsed": false
   },
   "outputs": [
    {
     "name": "stdout",
     "output_type": "stream",
     "text": [
      "Feature ranking:\n",
      "1. Incurred (0.101600)\n",
      "2. Claim_Number (0.030569)\n",
      "3. Event_Number (0.025748)\n",
      "4. Event_Occurrence_month (0.024264)\n",
      "5. Effective_date (0.023862)\n",
      "6. Insured_Age (0.023128)\n",
      "7. Issued_date (0.022785)\n",
      "8. Issued_Time (0.022509)\n",
      "9. Annual_Premium (0.022473)\n",
      "10. Car_Age (0.022391)\n",
      "11. Annual_Premium_BIL (0.021977)\n",
      "12. Annual_Premium_PDL (0.021589)\n",
      "13. Annual_Premium_PPA (0.021286)\n",
      "14. Issued_month (0.021183)\n",
      "15. Effective_month (0.021054)\n",
      "16. Inception_month (0.020746)\n",
      "17. Original_Channel (0.020224)\n",
      "18. Renewal_Times (0.019715)\n",
      "19. Annual_Premium_PI (0.019645)\n",
      "20. Bonus_Malus (0.019541)\n",
      "21. Insured_Age_Range (0.018320)\n",
      "22. Car_Type (0.018212)\n",
      "23. Family_Restriction (0.018116)\n",
      "24. Bonus_Malus_Range (0.017418)\n",
      "25. Mileage (0.017395)\n",
      "26. Annual_Premium_ODPE (0.017355)\n",
      "27. PI_Class (0.017312)\n",
      "28. Annual_Premium_OD (0.017210)\n",
      "29. Annual_Premium_PE (0.017064)\n",
      "30. PI_Limit (0.016767)\n",
      "31. Payment_Method (0.016075)\n",
      "32. Prev_Insurer_Category (0.015293)\n",
      "33. Contract_Status (0.015207)\n",
      "34. PPA_Limit (0.014765)\n",
      "35. Deduct (0.014390)\n",
      "36. IN_OUTPATIENT (0.014086)\n",
      "37. Usage (0.013959)\n",
      "38. Insured_Sex (0.013824)\n",
      "39. License_Color (0.013505)\n",
      "40. Age_Restriction (0.013478)\n",
      "41. Issued_year (0.010613)\n",
      "42. Effective_year (0.010302)\n",
      "43. Inception_year (0.009990)\n",
      "44. Event_Occurrence_year (0.009953)\n",
      "45. Internet_Discount (0.009675)\n",
      "46. OD_Type (0.008486)\n",
      "47. PDL_Limit (0.008184)\n",
      "48. PDL_Special_Coverage (0.008145)\n",
      "49. PI_Type (0.008117)\n",
      "50. Payment_Type1 (0.007027)\n",
      "51. Annual_Premium_LE (0.006992)\n",
      "52. Previous_Accidents (0.006524)\n",
      "53. LE_Coverage (0.005180)\n",
      "54. PI_Coverage (0.004516)\n",
      "55. Annual_Premium_FB (0.003648)\n",
      "56. Annual_Premium_FBP (0.003497)\n",
      "57. Annual_Premium_FBB (0.003406)\n",
      "58. FB_Coverage (0.003057)\n",
      "59. OD_Coverage (0.002730)\n",
      "60. Annual_Premium_AXAP (0.002627)\n",
      "61. Annual_Premium_PL (0.002524)\n",
      "62. PPA_Coverage (0.002436)\n",
      "63. Annual_Premium_PSE (0.002316)\n",
      "64. Annual_Premium_HK (0.002255)\n",
      "65. Anshin_Plus (0.001952)\n",
      "66. Anshin_Plus_Family (0.001937)\n",
      "67. Annual_Premium_PET (0.001248)\n",
      "68. Anshin_Plus_Pet (0.001239)\n",
      "69. EQ_Coverage (0.001222)\n",
      "70. Annual_Premium_EQ (0.001217)\n",
      "71. Automatic_Renewal (0.001052)\n",
      "72. Annual_Premium_PPD (0.000990)\n",
      "73. Anshin_Plus_Ladies (0.000900)\n",
      "74. Inception_date (0.000000)\n",
      "75. Tariff (0.000000)\n",
      "76. Event_Occurrence_date (0.000000)\n"
     ]
    },
    {
     "data": {
      "image/png": "[encoded data removed]",
      "text/plain": [
       "<matplotlib.figure.Figure at 0x117e9b908>"
      ]
     },
     "metadata": {},
     "output_type": "display_data"
    }
   ],
   "source": [
    "# Print the feature ranking\n",
    "print(\"Feature ranking:\")\n",
    "for f in range(X.shape[1]):\n",
    "    print(\"%d. %s (%f)\" % (f + 1, X.columns[indices[f]], importances[indices[f]]))\n",
    "# Plot the feature importances of the forest\n",
    "plt.title(\"Feature Importance\", size = 30)\n",
    "plt.bar(range(X.shape[1]), importances[indices],\n",
    "       color=\"r\", yerr=std[indices], align=\"center\")\n",
    "plt.xticks(range(X.shape[1]), X.columns[indices], size =18)\n",
    "plt.xlim([-1, X.shape[1]])\n",
    "locs, labels = plt.xticks()\n",
    "plt.setp(labels, rotation=90)\n",
    "plt.show()"
   ]
  },
  {
   "cell_type": "markdown",
   "metadata": {},
   "source": [
    "# Modeling "
   ]
  },
  {
   "cell_type": "code",
   "execution_count": 24,
   "metadata": {
    "collapsed": false
   },
   "outputs": [
    {
     "name": "stdout",
     "output_type": "stream",
     "text": [
      "0.126876574986\n",
      "0.963791605875\n"
     ]
    }
   ],
   "source": [
    "# RanfomForestClassifier\n",
    "from sklearn.model_selection import train_test_split\n",
    "from sklearn.metrics import log_loss\n",
    "from sklearn.metrics import accuracy_score\n",
    "from sklearn.metrics import roc_auc_score\n",
    "from sklearn.ensemble import RandomForestClassifier\n",
    "random_state = 5000\n",
    "X_train, X_val, y_train, y_val = train_test_split(X, y, test_size=0.34, random_state = 5000)\n",
    "rf1 = RandomForestClassifier(n_estimators=250, criterion='entropy',  n_jobs = 1,  random_state=random_state)\n",
    "rf1.fit(X_train, y_train)\n",
    "y_val_pred = rf1.predict_proba(X_val)\n",
    "y_val_pred_acc = rf1.predict(X_val)\n",
    "logloss = log_loss(y_val, y_val_pred)\n",
    "print(logloss)\n",
    "accuracy = accuracy_score(y_val, y_val_pred_acc)\n",
    "print(accuracy)"
   ]
  },
  {
   "cell_type": "code",
   "execution_count": 25,
   "metadata": {
    "collapsed": false
   },
   "outputs": [
    {
     "name": "stderr",
     "output_type": "stream",
     "text": [
      "/Users/admin/anaconda/lib/python3.6/site-packages/sklearn/cross_validation.py:44: DeprecationWarning: This module was deprecated in version 0.18 in favor of the model_selection module into which all the refactored classes and functions are moved. Also note that the interface of the new CV iterators are different from that of this module. This module will be removed in 0.20.\n",
      "  \"This module will be removed in 0.20.\", DeprecationWarning)\n"
     ]
    },
    {
     "name": "stdout",
     "output_type": "stream",
     "text": [
      "0.223528514681\n",
      "0.924205351212\n"
     ]
    }
   ],
   "source": [
    "# XGBoost\n",
    "from xgboost import XGBClassifier\n",
    "xgb = XGBClassifier(seed=random_state)\n",
    "xgb.fit(X_train, y_train)\n",
    "y_val_pred = xgb.predict_proba(X_val)\n",
    "y_val_pred_acc = xgb.predict(X_val)\n",
    "logloss = log_loss(y_val, y_val_pred)\n",
    "print(logloss)\n",
    "accuracy = accuracy_score(y_val, y_val_pred_acc)\n",
    "print(accuracy)"
   ]
  },
  {
   "cell_type": "markdown",
   "metadata": {},
   "source": [
    "# AUC "
   ]
  },
  {
   "cell_type": "code",
   "execution_count": 13,
   "metadata": {
    "collapsed": false
   },
   "outputs": [],
   "source": [
    "# RanfomForestClassifier\n",
    "from sklearn.model_selection import train_test_split\n",
    "from sklearn.metrics import log_loss\n",
    "from sklearn.metrics import accuracy_score\n",
    "from sklearn.metrics import roc_auc_score\n",
    "from sklearn.ensemble import RandomForestClassifier\n",
    "random_state = 5000\n",
    "X_train, X_val, y_train, y_val = train_test_split(X, y, test_size=0.34, random_state = 5000)\n",
    "rf1 = RandomForestClassifier(n_estimators=250, criterion='entropy',  n_jobs = 1,  random_state=random_state)\n",
    "rf1.fit(X_train, y_train)\n",
    "y_val_pred_prob = rf1.predict_proba(X_val)"
   ]
  },
  {
   "cell_type": "code",
   "execution_count": 14,
   "metadata": {
    "collapsed": false
   },
   "outputs": [
    {
     "data": {
      "text/plain": [
       "0.96921798898262401"
      ]
     },
     "execution_count": 14,
     "metadata": {},
     "output_type": "execute_result"
    }
   ],
   "source": [
    "roc_auc_score(y_val, y_val_pred_prob[:, 1])"
   ]
  },
  {
   "cell_type": "code",
   "execution_count": 16,
   "metadata": {
    "collapsed": false
   },
   "outputs": [
    {
     "name": "stderr",
     "output_type": "stream",
     "text": [
      "/Users/admin/anaconda/lib/python3.6/site-packages/sklearn/cross_validation.py:44: DeprecationWarning: This module was deprecated in version 0.18 in favor of the model_selection module into which all the refactored classes and functions are moved. Also note that the interface of the new CV iterators are different from that of this module. This module will be removed in 0.20.\n",
      "  \"This module will be removed in 0.20.\", DeprecationWarning)\n"
     ]
    }
   ],
   "source": [
    "# XGBoost\n",
    "from xgboost import XGBClassifier\n",
    "xgb = XGBClassifier(seed=random_state)\n",
    "xgb.fit(X_train, y_train)\n",
    "y_scores = xgb.predict_proba(X_val)"
   ]
  },
  {
   "cell_type": "code",
   "execution_count": 17,
   "metadata": {
    "collapsed": false
   },
   "outputs": [
    {
     "data": {
      "text/plain": [
       "0.84603117434945563"
      ]
     },
     "execution_count": 17,
     "metadata": {},
     "output_type": "execute_result"
    }
   ],
   "source": [
    "roc_auc_score(y_val, y_scores[:, 1])"
   ]
  },
  {
   "cell_type": "code",
   "execution_count": null,
   "metadata": {
    "collapsed": true
   },
   "outputs": [],
   "source": []
  }
 ],
 "metadata": {
  "kernelspec": {
   "display_name": "Python 3",
   "language": "python",
   "name": "python3"
  },
  "language_info": {
   "codemirror_mode": {
    "name": "ipython",
    "version": 3
   },
   "file_extension": ".py",
   "mimetype": "text/x-python",
   "name": "python",
   "nbconvert_exporter": "python",
   "pygments_lexer": "ipython3",
   "version": "3.6.0"
  }
 },
 "nbformat": 4,
 "nbformat_minor": 2
}
